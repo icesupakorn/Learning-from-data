{
 "cells": [
  {
   "cell_type": "markdown",
   "id": "4af04d53",
   "metadata": {},
   "source": [
    "# Obesity risk factors classification"
   ]
  },
  {
   "cell_type": "code",
   "execution_count": 1,
   "id": "1cdb0b84",
   "metadata": {},
   "outputs": [],
   "source": [
    "# import the nescessary libraries\n",
    "import numpy as np\n",
    "import pandas as pd\n",
    "import matplotlib as mpl\n",
    "import matplotlib.pyplot as plt\n",
    "import seaborn as sns\n",
    "from sklearn import naive_bayes\n",
    "from sklearn import svm\n",
    "from sklearn import ensemble\n",
    "from sklearn.model_selection import train_test_split\n",
    "from sklearn.model_selection import cross_val_score\n",
    "from sklearn.metrics import accuracy_score\n",
    "from sklearn.metrics import confusion_matrix\n",
    "from sklearn import metrics\n",
    "from sklearn.model_selection import GridSearchCV"
   ]
  },
  {
   "cell_type": "code",
   "execution_count": 2,
   "id": "ec837903",
   "metadata": {},
   "outputs": [
    {
     "data": {
      "text/html": [
       "<div>\n",
       "<style scoped>\n",
       "    .dataframe tbody tr th:only-of-type {\n",
       "        vertical-align: middle;\n",
       "    }\n",
       "\n",
       "    .dataframe tbody tr th {\n",
       "        vertical-align: top;\n",
       "    }\n",
       "\n",
       "    .dataframe thead th {\n",
       "        text-align: right;\n",
       "    }\n",
       "</style>\n",
       "<table border=\"1\" class=\"dataframe\">\n",
       "  <thead>\n",
       "    <tr style=\"text-align: right;\">\n",
       "      <th></th>\n",
       "      <th>Gender</th>\n",
       "      <th>Age</th>\n",
       "      <th>Height</th>\n",
       "      <th>Weight</th>\n",
       "      <th>family_history_with_overweight</th>\n",
       "      <th>FAVC</th>\n",
       "      <th>FCVC</th>\n",
       "      <th>NCP</th>\n",
       "      <th>CAEC</th>\n",
       "      <th>SMOKE</th>\n",
       "      <th>CH2O</th>\n",
       "      <th>SCC</th>\n",
       "      <th>FAF</th>\n",
       "      <th>TUE</th>\n",
       "      <th>CALC</th>\n",
       "      <th>MTRANS</th>\n",
       "      <th>NObeyesdad</th>\n",
       "    </tr>\n",
       "  </thead>\n",
       "  <tbody>\n",
       "    <tr>\n",
       "      <th>0</th>\n",
       "      <td>Female</td>\n",
       "      <td>21.0</td>\n",
       "      <td>1.62</td>\n",
       "      <td>64.0</td>\n",
       "      <td>yes</td>\n",
       "      <td>no</td>\n",
       "      <td>2.0</td>\n",
       "      <td>3.0</td>\n",
       "      <td>Sometimes</td>\n",
       "      <td>no</td>\n",
       "      <td>2.0</td>\n",
       "      <td>no</td>\n",
       "      <td>0.0</td>\n",
       "      <td>1.0</td>\n",
       "      <td>no</td>\n",
       "      <td>Public_Transportation</td>\n",
       "      <td>Normal_Weight</td>\n",
       "    </tr>\n",
       "    <tr>\n",
       "      <th>1</th>\n",
       "      <td>Female</td>\n",
       "      <td>21.0</td>\n",
       "      <td>1.52</td>\n",
       "      <td>56.0</td>\n",
       "      <td>yes</td>\n",
       "      <td>no</td>\n",
       "      <td>3.0</td>\n",
       "      <td>3.0</td>\n",
       "      <td>Sometimes</td>\n",
       "      <td>yes</td>\n",
       "      <td>3.0</td>\n",
       "      <td>yes</td>\n",
       "      <td>3.0</td>\n",
       "      <td>0.0</td>\n",
       "      <td>Sometimes</td>\n",
       "      <td>Public_Transportation</td>\n",
       "      <td>Normal_Weight</td>\n",
       "    </tr>\n",
       "    <tr>\n",
       "      <th>2</th>\n",
       "      <td>Male</td>\n",
       "      <td>23.0</td>\n",
       "      <td>1.80</td>\n",
       "      <td>77.0</td>\n",
       "      <td>yes</td>\n",
       "      <td>no</td>\n",
       "      <td>2.0</td>\n",
       "      <td>3.0</td>\n",
       "      <td>Sometimes</td>\n",
       "      <td>no</td>\n",
       "      <td>2.0</td>\n",
       "      <td>no</td>\n",
       "      <td>2.0</td>\n",
       "      <td>1.0</td>\n",
       "      <td>Frequently</td>\n",
       "      <td>Public_Transportation</td>\n",
       "      <td>Normal_Weight</td>\n",
       "    </tr>\n",
       "    <tr>\n",
       "      <th>3</th>\n",
       "      <td>Male</td>\n",
       "      <td>27.0</td>\n",
       "      <td>1.80</td>\n",
       "      <td>87.0</td>\n",
       "      <td>no</td>\n",
       "      <td>no</td>\n",
       "      <td>3.0</td>\n",
       "      <td>3.0</td>\n",
       "      <td>Sometimes</td>\n",
       "      <td>no</td>\n",
       "      <td>2.0</td>\n",
       "      <td>no</td>\n",
       "      <td>2.0</td>\n",
       "      <td>0.0</td>\n",
       "      <td>Frequently</td>\n",
       "      <td>Walking</td>\n",
       "      <td>Overweight_Level_I</td>\n",
       "    </tr>\n",
       "    <tr>\n",
       "      <th>4</th>\n",
       "      <td>Male</td>\n",
       "      <td>22.0</td>\n",
       "      <td>1.78</td>\n",
       "      <td>89.8</td>\n",
       "      <td>no</td>\n",
       "      <td>no</td>\n",
       "      <td>2.0</td>\n",
       "      <td>1.0</td>\n",
       "      <td>Sometimes</td>\n",
       "      <td>no</td>\n",
       "      <td>2.0</td>\n",
       "      <td>no</td>\n",
       "      <td>0.0</td>\n",
       "      <td>0.0</td>\n",
       "      <td>Sometimes</td>\n",
       "      <td>Public_Transportation</td>\n",
       "      <td>Overweight_Level_II</td>\n",
       "    </tr>\n",
       "  </tbody>\n",
       "</table>\n",
       "</div>"
      ],
      "text/plain": [
       "   Gender   Age  Height  Weight family_history_with_overweight FAVC  FCVC  \\\n",
       "0  Female  21.0    1.62    64.0                            yes   no   2.0   \n",
       "1  Female  21.0    1.52    56.0                            yes   no   3.0   \n",
       "2    Male  23.0    1.80    77.0                            yes   no   2.0   \n",
       "3    Male  27.0    1.80    87.0                             no   no   3.0   \n",
       "4    Male  22.0    1.78    89.8                             no   no   2.0   \n",
       "\n",
       "   NCP       CAEC SMOKE  CH2O  SCC  FAF  TUE        CALC  \\\n",
       "0  3.0  Sometimes    no   2.0   no  0.0  1.0          no   \n",
       "1  3.0  Sometimes   yes   3.0  yes  3.0  0.0   Sometimes   \n",
       "2  3.0  Sometimes    no   2.0   no  2.0  1.0  Frequently   \n",
       "3  3.0  Sometimes    no   2.0   no  2.0  0.0  Frequently   \n",
       "4  1.0  Sometimes    no   2.0   no  0.0  0.0   Sometimes   \n",
       "\n",
       "                  MTRANS           NObeyesdad  \n",
       "0  Public_Transportation        Normal_Weight  \n",
       "1  Public_Transportation        Normal_Weight  \n",
       "2  Public_Transportation        Normal_Weight  \n",
       "3                Walking   Overweight_Level_I  \n",
       "4  Public_Transportation  Overweight_Level_II  "
      ]
     },
     "execution_count": 2,
     "metadata": {},
     "output_type": "execute_result"
    }
   ],
   "source": [
    "#importing the dataset\n",
    "file_path = 'ObesityDataSet_raw_and_data_sinthetic.csv'\n",
    "data = pd.read_csv(file_path)\n",
    "data.head()"
   ]
  },
  {
   "cell_type": "code",
   "execution_count": 3,
   "id": "5e04f842",
   "metadata": {},
   "outputs": [
    {
     "name": "stdout",
     "output_type": "stream",
     "text": [
      "Gender                             object\n",
      "Age                               float64\n",
      "Height                            float64\n",
      "Weight                            float64\n",
      "family_history_with_overweight     object\n",
      "FAVC                               object\n",
      "FCVC                              float64\n",
      "NCP                               float64\n",
      "CAEC                               object\n",
      "SMOKE                              object\n",
      "CH2O                              float64\n",
      "SCC                                object\n",
      "FAF                               float64\n",
      "TUE                               float64\n",
      "CALC                               object\n",
      "MTRANS                             object\n",
      "NObeyesdad                         object\n",
      "dtype: object\n",
      "(2111, 17)\n"
     ]
    }
   ],
   "source": [
    "#checking for the data size and types\n",
    "print(data.dtypes)\n",
    "print(data.shape)"
   ]
  },
  {
   "cell_type": "markdown",
   "id": "a0a1faeb",
   "metadata": {},
   "source": [
    "### Data cleaning and processing"
   ]
  },
  {
   "cell_type": "code",
   "execution_count": 4,
   "id": "7bb80df1",
   "metadata": {},
   "outputs": [
    {
     "name": "stdout",
     "output_type": "stream",
     "text": [
      "<class 'pandas.core.frame.DataFrame'>\n",
      "RangeIndex: 2111 entries, 0 to 2110\n",
      "Data columns (total 17 columns):\n",
      " #   Column                          Non-Null Count  Dtype  \n",
      "---  ------                          --------------  -----  \n",
      " 0   Gender                          2111 non-null   object \n",
      " 1   Age                             2111 non-null   float64\n",
      " 2   Height                          2111 non-null   float64\n",
      " 3   Weight                          2111 non-null   float64\n",
      " 4   family_history_with_overweight  2111 non-null   object \n",
      " 5   FAVC                            2111 non-null   object \n",
      " 6   FCVC                            2111 non-null   float64\n",
      " 7   NCP                             2111 non-null   float64\n",
      " 8   CAEC                            2111 non-null   object \n",
      " 9   SMOKE                           2111 non-null   object \n",
      " 10  CH2O                            2111 non-null   float64\n",
      " 11  SCC                             2111 non-null   object \n",
      " 12  FAF                             2111 non-null   float64\n",
      " 13  TUE                             2111 non-null   float64\n",
      " 14  CALC                            2111 non-null   object \n",
      " 15  MTRANS                          2111 non-null   object \n",
      " 16  NObeyesdad                      2111 non-null   object \n",
      "dtypes: float64(8), object(9)\n",
      "memory usage: 280.5+ KB\n"
     ]
    }
   ],
   "source": [
    "# checking for the null value in dataset\n",
    "data.info()"
   ]
  },
  {
   "cell_type": "markdown",
   "id": "ddbe79ed",
   "metadata": {},
   "source": [
    "since there is no null value we can continue to data processing"
   ]
  },
  {
   "cell_type": "code",
   "execution_count": 5,
   "id": "5a256b06",
   "metadata": {},
   "outputs": [],
   "source": [
    "# radomizing the order in dataset\n",
    "data = data.sample(frac=1, random_state=45).reset_index(drop=True)"
   ]
  },
  {
   "cell_type": "code",
   "execution_count": 6,
   "id": "af991449",
   "metadata": {},
   "outputs": [
    {
     "data": {
      "text/html": [
       "<div>\n",
       "<style scoped>\n",
       "    .dataframe tbody tr th:only-of-type {\n",
       "        vertical-align: middle;\n",
       "    }\n",
       "\n",
       "    .dataframe tbody tr th {\n",
       "        vertical-align: top;\n",
       "    }\n",
       "\n",
       "    .dataframe thead th {\n",
       "        text-align: right;\n",
       "    }\n",
       "</style>\n",
       "<table border=\"1\" class=\"dataframe\">\n",
       "  <thead>\n",
       "    <tr style=\"text-align: right;\">\n",
       "      <th></th>\n",
       "      <th>Gender</th>\n",
       "      <th>Age</th>\n",
       "      <th>Height</th>\n",
       "      <th>Weight</th>\n",
       "      <th>family_history_with_overweight</th>\n",
       "      <th>FAVC</th>\n",
       "      <th>FCVC</th>\n",
       "      <th>NCP</th>\n",
       "      <th>CAEC</th>\n",
       "      <th>SMOKE</th>\n",
       "      <th>CH2O</th>\n",
       "      <th>SCC</th>\n",
       "      <th>FAF</th>\n",
       "      <th>TUE</th>\n",
       "      <th>CALC</th>\n",
       "      <th>MTRANS</th>\n",
       "    </tr>\n",
       "  </thead>\n",
       "  <tbody>\n",
       "    <tr>\n",
       "      <th>0</th>\n",
       "      <td>Female</td>\n",
       "      <td>37.631769</td>\n",
       "      <td>1.513202</td>\n",
       "      <td>75.410647</td>\n",
       "      <td>yes</td>\n",
       "      <td>yes</td>\n",
       "      <td>2.0</td>\n",
       "      <td>2.582591</td>\n",
       "      <td>Sometimes</td>\n",
       "      <td>no</td>\n",
       "      <td>1.535134</td>\n",
       "      <td>no</td>\n",
       "      <td>1.884520</td>\n",
       "      <td>0.000000</td>\n",
       "      <td>Sometimes</td>\n",
       "      <td>Automobile</td>\n",
       "    </tr>\n",
       "    <tr>\n",
       "      <th>1</th>\n",
       "      <td>Female</td>\n",
       "      <td>25.897815</td>\n",
       "      <td>1.664463</td>\n",
       "      <td>102.781971</td>\n",
       "      <td>yes</td>\n",
       "      <td>yes</td>\n",
       "      <td>3.0</td>\n",
       "      <td>3.000000</td>\n",
       "      <td>Sometimes</td>\n",
       "      <td>no</td>\n",
       "      <td>1.068493</td>\n",
       "      <td>no</td>\n",
       "      <td>0.112122</td>\n",
       "      <td>1.000000</td>\n",
       "      <td>Sometimes</td>\n",
       "      <td>Public_Transportation</td>\n",
       "    </tr>\n",
       "    <tr>\n",
       "      <th>2</th>\n",
       "      <td>Female</td>\n",
       "      <td>18.000000</td>\n",
       "      <td>1.620000</td>\n",
       "      <td>68.000000</td>\n",
       "      <td>no</td>\n",
       "      <td>no</td>\n",
       "      <td>2.0</td>\n",
       "      <td>1.000000</td>\n",
       "      <td>Sometimes</td>\n",
       "      <td>no</td>\n",
       "      <td>1.000000</td>\n",
       "      <td>no</td>\n",
       "      <td>0.000000</td>\n",
       "      <td>2.000000</td>\n",
       "      <td>no</td>\n",
       "      <td>Public_Transportation</td>\n",
       "    </tr>\n",
       "    <tr>\n",
       "      <th>3</th>\n",
       "      <td>Male</td>\n",
       "      <td>18.014333</td>\n",
       "      <td>1.751029</td>\n",
       "      <td>80.000000</td>\n",
       "      <td>yes</td>\n",
       "      <td>yes</td>\n",
       "      <td>2.0</td>\n",
       "      <td>2.805436</td>\n",
       "      <td>Sometimes</td>\n",
       "      <td>no</td>\n",
       "      <td>2.122884</td>\n",
       "      <td>no</td>\n",
       "      <td>0.045651</td>\n",
       "      <td>0.017225</td>\n",
       "      <td>Frequently</td>\n",
       "      <td>Public_Transportation</td>\n",
       "    </tr>\n",
       "    <tr>\n",
       "      <th>4</th>\n",
       "      <td>Male</td>\n",
       "      <td>23.083621</td>\n",
       "      <td>1.848553</td>\n",
       "      <td>121.421121</td>\n",
       "      <td>yes</td>\n",
       "      <td>yes</td>\n",
       "      <td>3.0</td>\n",
       "      <td>2.567567</td>\n",
       "      <td>Sometimes</td>\n",
       "      <td>no</td>\n",
       "      <td>2.011023</td>\n",
       "      <td>no</td>\n",
       "      <td>0.916478</td>\n",
       "      <td>0.000000</td>\n",
       "      <td>Sometimes</td>\n",
       "      <td>Public_Transportation</td>\n",
       "    </tr>\n",
       "  </tbody>\n",
       "</table>\n",
       "</div>"
      ],
      "text/plain": [
       "   Gender        Age    Height      Weight family_history_with_overweight  \\\n",
       "0  Female  37.631769  1.513202   75.410647                            yes   \n",
       "1  Female  25.897815  1.664463  102.781971                            yes   \n",
       "2  Female  18.000000  1.620000   68.000000                             no   \n",
       "3    Male  18.014333  1.751029   80.000000                            yes   \n",
       "4    Male  23.083621  1.848553  121.421121                            yes   \n",
       "\n",
       "  FAVC  FCVC       NCP       CAEC SMOKE      CH2O SCC       FAF       TUE  \\\n",
       "0  yes   2.0  2.582591  Sometimes    no  1.535134  no  1.884520  0.000000   \n",
       "1  yes   3.0  3.000000  Sometimes    no  1.068493  no  0.112122  1.000000   \n",
       "2   no   2.0  1.000000  Sometimes    no  1.000000  no  0.000000  2.000000   \n",
       "3  yes   2.0  2.805436  Sometimes    no  2.122884  no  0.045651  0.017225   \n",
       "4  yes   3.0  2.567567  Sometimes    no  2.011023  no  0.916478  0.000000   \n",
       "\n",
       "         CALC                 MTRANS  \n",
       "0   Sometimes             Automobile  \n",
       "1   Sometimes  Public_Transportation  \n",
       "2          no  Public_Transportation  \n",
       "3  Frequently  Public_Transportation  \n",
       "4   Sometimes  Public_Transportation  "
      ]
     },
     "execution_count": 6,
     "metadata": {},
     "output_type": "execute_result"
    }
   ],
   "source": [
    "# seperating data into classes and variables\n",
    "attributes = data.iloc[:,: -1]\n",
    "labels = data.iloc[:, -1]\n",
    "attributes.head()"
   ]
  },
  {
   "cell_type": "code",
   "execution_count": 7,
   "id": "bcde07ad",
   "metadata": {},
   "outputs": [
    {
     "data": {
      "text/html": [
       "<div>\n",
       "<style scoped>\n",
       "    .dataframe tbody tr th:only-of-type {\n",
       "        vertical-align: middle;\n",
       "    }\n",
       "\n",
       "    .dataframe tbody tr th {\n",
       "        vertical-align: top;\n",
       "    }\n",
       "\n",
       "    .dataframe thead th {\n",
       "        text-align: right;\n",
       "    }\n",
       "</style>\n",
       "<table border=\"1\" class=\"dataframe\">\n",
       "  <thead>\n",
       "    <tr style=\"text-align: right;\">\n",
       "      <th></th>\n",
       "      <th>Gender</th>\n",
       "      <th>Age</th>\n",
       "      <th>family_history_with_overweight</th>\n",
       "      <th>FAVC</th>\n",
       "      <th>FCVC</th>\n",
       "      <th>NCP</th>\n",
       "      <th>CAEC</th>\n",
       "      <th>SMOKE</th>\n",
       "      <th>CH2O</th>\n",
       "      <th>SCC</th>\n",
       "      <th>FAF</th>\n",
       "      <th>TUE</th>\n",
       "      <th>CALC</th>\n",
       "      <th>MTRANS</th>\n",
       "    </tr>\n",
       "  </thead>\n",
       "  <tbody>\n",
       "    <tr>\n",
       "      <th>0</th>\n",
       "      <td>Female</td>\n",
       "      <td>37.631769</td>\n",
       "      <td>yes</td>\n",
       "      <td>yes</td>\n",
       "      <td>2.0</td>\n",
       "      <td>2.582591</td>\n",
       "      <td>Sometimes</td>\n",
       "      <td>no</td>\n",
       "      <td>1.535134</td>\n",
       "      <td>no</td>\n",
       "      <td>1.884520</td>\n",
       "      <td>0.000000</td>\n",
       "      <td>Sometimes</td>\n",
       "      <td>Automobile</td>\n",
       "    </tr>\n",
       "    <tr>\n",
       "      <th>1</th>\n",
       "      <td>Female</td>\n",
       "      <td>25.897815</td>\n",
       "      <td>yes</td>\n",
       "      <td>yes</td>\n",
       "      <td>3.0</td>\n",
       "      <td>3.000000</td>\n",
       "      <td>Sometimes</td>\n",
       "      <td>no</td>\n",
       "      <td>1.068493</td>\n",
       "      <td>no</td>\n",
       "      <td>0.112122</td>\n",
       "      <td>1.000000</td>\n",
       "      <td>Sometimes</td>\n",
       "      <td>Public_Transportation</td>\n",
       "    </tr>\n",
       "    <tr>\n",
       "      <th>2</th>\n",
       "      <td>Female</td>\n",
       "      <td>18.000000</td>\n",
       "      <td>no</td>\n",
       "      <td>no</td>\n",
       "      <td>2.0</td>\n",
       "      <td>1.000000</td>\n",
       "      <td>Sometimes</td>\n",
       "      <td>no</td>\n",
       "      <td>1.000000</td>\n",
       "      <td>no</td>\n",
       "      <td>0.000000</td>\n",
       "      <td>2.000000</td>\n",
       "      <td>no</td>\n",
       "      <td>Public_Transportation</td>\n",
       "    </tr>\n",
       "    <tr>\n",
       "      <th>3</th>\n",
       "      <td>Male</td>\n",
       "      <td>18.014333</td>\n",
       "      <td>yes</td>\n",
       "      <td>yes</td>\n",
       "      <td>2.0</td>\n",
       "      <td>2.805436</td>\n",
       "      <td>Sometimes</td>\n",
       "      <td>no</td>\n",
       "      <td>2.122884</td>\n",
       "      <td>no</td>\n",
       "      <td>0.045651</td>\n",
       "      <td>0.017225</td>\n",
       "      <td>Frequently</td>\n",
       "      <td>Public_Transportation</td>\n",
       "    </tr>\n",
       "    <tr>\n",
       "      <th>4</th>\n",
       "      <td>Male</td>\n",
       "      <td>23.083621</td>\n",
       "      <td>yes</td>\n",
       "      <td>yes</td>\n",
       "      <td>3.0</td>\n",
       "      <td>2.567567</td>\n",
       "      <td>Sometimes</td>\n",
       "      <td>no</td>\n",
       "      <td>2.011023</td>\n",
       "      <td>no</td>\n",
       "      <td>0.916478</td>\n",
       "      <td>0.000000</td>\n",
       "      <td>Sometimes</td>\n",
       "      <td>Public_Transportation</td>\n",
       "    </tr>\n",
       "  </tbody>\n",
       "</table>\n",
       "</div>"
      ],
      "text/plain": [
       "   Gender        Age family_history_with_overweight FAVC  FCVC       NCP  \\\n",
       "0  Female  37.631769                            yes  yes   2.0  2.582591   \n",
       "1  Female  25.897815                            yes  yes   3.0  3.000000   \n",
       "2  Female  18.000000                             no   no   2.0  1.000000   \n",
       "3    Male  18.014333                            yes  yes   2.0  2.805436   \n",
       "4    Male  23.083621                            yes  yes   3.0  2.567567   \n",
       "\n",
       "        CAEC SMOKE      CH2O SCC       FAF       TUE        CALC  \\\n",
       "0  Sometimes    no  1.535134  no  1.884520  0.000000   Sometimes   \n",
       "1  Sometimes    no  1.068493  no  0.112122  1.000000   Sometimes   \n",
       "2  Sometimes    no  1.000000  no  0.000000  2.000000          no   \n",
       "3  Sometimes    no  2.122884  no  0.045651  0.017225  Frequently   \n",
       "4  Sometimes    no  2.011023  no  0.916478  0.000000   Sometimes   \n",
       "\n",
       "                  MTRANS  \n",
       "0             Automobile  \n",
       "1  Public_Transportation  \n",
       "2  Public_Transportation  \n",
       "3  Public_Transportation  \n",
       "4  Public_Transportation  "
      ]
     },
     "execution_count": 7,
     "metadata": {},
     "output_type": "execute_result"
    }
   ],
   "source": [
    "# since height and weight is a function of body type, we will drop these two variables to focus on the other risk factors\n",
    "attributes = attributes.drop('Height', axis=1)\n",
    "attributes = attributes.drop('Weight', axis=1)\n",
    "attributes.head()"
   ]
  },
  {
   "cell_type": "code",
   "execution_count": 8,
   "id": "c7390921",
   "metadata": {},
   "outputs": [
    {
     "data": {
      "text/html": [
       "<div>\n",
       "<style scoped>\n",
       "    .dataframe tbody tr th:only-of-type {\n",
       "        vertical-align: middle;\n",
       "    }\n",
       "\n",
       "    .dataframe tbody tr th {\n",
       "        vertical-align: top;\n",
       "    }\n",
       "\n",
       "    .dataframe thead th {\n",
       "        text-align: right;\n",
       "    }\n",
       "</style>\n",
       "<table border=\"1\" class=\"dataframe\">\n",
       "  <thead>\n",
       "    <tr style=\"text-align: right;\">\n",
       "      <th></th>\n",
       "      <th>Gender</th>\n",
       "      <th>Age</th>\n",
       "      <th>family_history_with_overweight</th>\n",
       "      <th>FAVC</th>\n",
       "      <th>FCVC</th>\n",
       "      <th>NCP</th>\n",
       "      <th>CAEC</th>\n",
       "      <th>SMOKE</th>\n",
       "      <th>CH2O</th>\n",
       "      <th>SCC</th>\n",
       "      <th>FAF</th>\n",
       "      <th>TUE</th>\n",
       "      <th>CALC</th>\n",
       "      <th>MTRANS</th>\n",
       "    </tr>\n",
       "  </thead>\n",
       "  <tbody>\n",
       "    <tr>\n",
       "      <th>0</th>\n",
       "      <td>1</td>\n",
       "      <td>37.631769</td>\n",
       "      <td>1</td>\n",
       "      <td>1</td>\n",
       "      <td>2.0</td>\n",
       "      <td>2.582591</td>\n",
       "      <td>1</td>\n",
       "      <td>0</td>\n",
       "      <td>1.535134</td>\n",
       "      <td>0</td>\n",
       "      <td>1.884520</td>\n",
       "      <td>0.000000</td>\n",
       "      <td>1</td>\n",
       "      <td>Automobile</td>\n",
       "    </tr>\n",
       "    <tr>\n",
       "      <th>1</th>\n",
       "      <td>1</td>\n",
       "      <td>25.897815</td>\n",
       "      <td>1</td>\n",
       "      <td>1</td>\n",
       "      <td>3.0</td>\n",
       "      <td>3.000000</td>\n",
       "      <td>1</td>\n",
       "      <td>0</td>\n",
       "      <td>1.068493</td>\n",
       "      <td>0</td>\n",
       "      <td>0.112122</td>\n",
       "      <td>1.000000</td>\n",
       "      <td>1</td>\n",
       "      <td>Public_Transportation</td>\n",
       "    </tr>\n",
       "    <tr>\n",
       "      <th>2</th>\n",
       "      <td>1</td>\n",
       "      <td>18.000000</td>\n",
       "      <td>0</td>\n",
       "      <td>0</td>\n",
       "      <td>2.0</td>\n",
       "      <td>1.000000</td>\n",
       "      <td>1</td>\n",
       "      <td>0</td>\n",
       "      <td>1.000000</td>\n",
       "      <td>0</td>\n",
       "      <td>0.000000</td>\n",
       "      <td>2.000000</td>\n",
       "      <td>0</td>\n",
       "      <td>Public_Transportation</td>\n",
       "    </tr>\n",
       "    <tr>\n",
       "      <th>3</th>\n",
       "      <td>0</td>\n",
       "      <td>18.014333</td>\n",
       "      <td>1</td>\n",
       "      <td>1</td>\n",
       "      <td>2.0</td>\n",
       "      <td>2.805436</td>\n",
       "      <td>1</td>\n",
       "      <td>0</td>\n",
       "      <td>2.122884</td>\n",
       "      <td>0</td>\n",
       "      <td>0.045651</td>\n",
       "      <td>0.017225</td>\n",
       "      <td>2</td>\n",
       "      <td>Public_Transportation</td>\n",
       "    </tr>\n",
       "    <tr>\n",
       "      <th>4</th>\n",
       "      <td>0</td>\n",
       "      <td>23.083621</td>\n",
       "      <td>1</td>\n",
       "      <td>1</td>\n",
       "      <td>3.0</td>\n",
       "      <td>2.567567</td>\n",
       "      <td>1</td>\n",
       "      <td>0</td>\n",
       "      <td>2.011023</td>\n",
       "      <td>0</td>\n",
       "      <td>0.916478</td>\n",
       "      <td>0.000000</td>\n",
       "      <td>1</td>\n",
       "      <td>Public_Transportation</td>\n",
       "    </tr>\n",
       "  </tbody>\n",
       "</table>\n",
       "</div>"
      ],
      "text/plain": [
       "   Gender        Age  family_history_with_overweight  FAVC  FCVC       NCP  \\\n",
       "0       1  37.631769                               1     1   2.0  2.582591   \n",
       "1       1  25.897815                               1     1   3.0  3.000000   \n",
       "2       1  18.000000                               0     0   2.0  1.000000   \n",
       "3       0  18.014333                               1     1   2.0  2.805436   \n",
       "4       0  23.083621                               1     1   3.0  2.567567   \n",
       "\n",
       "   CAEC  SMOKE      CH2O  SCC       FAF       TUE  CALC                 MTRANS  \n",
       "0     1      0  1.535134    0  1.884520  0.000000     1             Automobile  \n",
       "1     1      0  1.068493    0  0.112122  1.000000     1  Public_Transportation  \n",
       "2     1      0  1.000000    0  0.000000  2.000000     0  Public_Transportation  \n",
       "3     1      0  2.122884    0  0.045651  0.017225     2  Public_Transportation  \n",
       "4     1      0  2.011023    0  0.916478  0.000000     1  Public_Transportation  "
      ]
     },
     "execution_count": 8,
     "metadata": {},
     "output_type": "execute_result"
    }
   ],
   "source": [
    "# encoding variable into binomial and numerical value\n",
    "var_encoding = {'Gender':                         {'Male': 0, 'Female': 1},\n",
    "                'family_history_with_overweight': {'yes': 1, 'no': 0},\n",
    "                'FAVC':                           {'yes': 1, 'no': 0},\n",
    "                'CAEC':                           {'no': 0, 'Sometimes': 1,\n",
    "                                                  'Frequently': 2, 'Always': 3},\n",
    "                'SMOKE':                          {'yes': 1, 'no': 0},\n",
    "                'SCC':                            {'yes': 1, 'no': 0},\n",
    "                'CALC':                           {'no': 0, 'Sometimes': 1,\n",
    "                                                  'Frequently': 2, 'Always': 3}}\n",
    "attributes = attributes.replace(var_encoding)\n",
    "attributes.head()"
   ]
  },
  {
   "cell_type": "code",
   "execution_count": 9,
   "id": "586f923c",
   "metadata": {},
   "outputs": [
    {
     "data": {
      "text/html": [
       "<div>\n",
       "<style scoped>\n",
       "    .dataframe tbody tr th:only-of-type {\n",
       "        vertical-align: middle;\n",
       "    }\n",
       "\n",
       "    .dataframe tbody tr th {\n",
       "        vertical-align: top;\n",
       "    }\n",
       "\n",
       "    .dataframe thead th {\n",
       "        text-align: right;\n",
       "    }\n",
       "</style>\n",
       "<table border=\"1\" class=\"dataframe\">\n",
       "  <thead>\n",
       "    <tr style=\"text-align: right;\">\n",
       "      <th></th>\n",
       "      <th>Automobile</th>\n",
       "      <th>Bike</th>\n",
       "      <th>Motorbike</th>\n",
       "      <th>Public_Transportation</th>\n",
       "      <th>Walking</th>\n",
       "    </tr>\n",
       "  </thead>\n",
       "  <tbody>\n",
       "    <tr>\n",
       "      <th>0</th>\n",
       "      <td>1</td>\n",
       "      <td>0</td>\n",
       "      <td>0</td>\n",
       "      <td>0</td>\n",
       "      <td>0</td>\n",
       "    </tr>\n",
       "    <tr>\n",
       "      <th>1</th>\n",
       "      <td>0</td>\n",
       "      <td>0</td>\n",
       "      <td>0</td>\n",
       "      <td>1</td>\n",
       "      <td>0</td>\n",
       "    </tr>\n",
       "    <tr>\n",
       "      <th>2</th>\n",
       "      <td>0</td>\n",
       "      <td>0</td>\n",
       "      <td>0</td>\n",
       "      <td>1</td>\n",
       "      <td>0</td>\n",
       "    </tr>\n",
       "    <tr>\n",
       "      <th>3</th>\n",
       "      <td>0</td>\n",
       "      <td>0</td>\n",
       "      <td>0</td>\n",
       "      <td>1</td>\n",
       "      <td>0</td>\n",
       "    </tr>\n",
       "    <tr>\n",
       "      <th>4</th>\n",
       "      <td>0</td>\n",
       "      <td>0</td>\n",
       "      <td>0</td>\n",
       "      <td>1</td>\n",
       "      <td>0</td>\n",
       "    </tr>\n",
       "  </tbody>\n",
       "</table>\n",
       "</div>"
      ],
      "text/plain": [
       "   Automobile  Bike  Motorbike  Public_Transportation  Walking\n",
       "0           1     0          0                      0        0\n",
       "1           0     0          0                      1        0\n",
       "2           0     0          0                      1        0\n",
       "3           0     0          0                      1        0\n",
       "4           0     0          0                      1        0"
      ]
     },
     "execution_count": 9,
     "metadata": {},
     "output_type": "execute_result"
    }
   ],
   "source": [
    "# for MTRANS, we will use one-hot encoding method since their is no linear relationship between each variables\n",
    "mtrans = pd.get_dummies(attributes['MTRANS'])\n",
    "mtrans.head()"
   ]
  },
  {
   "cell_type": "code",
   "execution_count": 10,
   "id": "582ea716",
   "metadata": {
    "scrolled": true
   },
   "outputs": [
    {
     "data": {
      "text/html": [
       "<div>\n",
       "<style scoped>\n",
       "    .dataframe tbody tr th:only-of-type {\n",
       "        vertical-align: middle;\n",
       "    }\n",
       "\n",
       "    .dataframe tbody tr th {\n",
       "        vertical-align: top;\n",
       "    }\n",
       "\n",
       "    .dataframe thead th {\n",
       "        text-align: right;\n",
       "    }\n",
       "</style>\n",
       "<table border=\"1\" class=\"dataframe\">\n",
       "  <thead>\n",
       "    <tr style=\"text-align: right;\">\n",
       "      <th></th>\n",
       "      <th>Gender</th>\n",
       "      <th>Age</th>\n",
       "      <th>family_history_with_overweight</th>\n",
       "      <th>FAVC</th>\n",
       "      <th>FCVC</th>\n",
       "      <th>NCP</th>\n",
       "      <th>CAEC</th>\n",
       "      <th>SMOKE</th>\n",
       "      <th>CH2O</th>\n",
       "      <th>SCC</th>\n",
       "      <th>FAF</th>\n",
       "      <th>TUE</th>\n",
       "      <th>CALC</th>\n",
       "      <th>Automobile</th>\n",
       "      <th>Bike</th>\n",
       "      <th>Motorbike</th>\n",
       "      <th>Public_Transportation</th>\n",
       "      <th>Walking</th>\n",
       "    </tr>\n",
       "  </thead>\n",
       "  <tbody>\n",
       "    <tr>\n",
       "      <th>0</th>\n",
       "      <td>1</td>\n",
       "      <td>37.631769</td>\n",
       "      <td>1</td>\n",
       "      <td>1</td>\n",
       "      <td>2.0</td>\n",
       "      <td>2.582591</td>\n",
       "      <td>1</td>\n",
       "      <td>0</td>\n",
       "      <td>1.535134</td>\n",
       "      <td>0</td>\n",
       "      <td>1.884520</td>\n",
       "      <td>0.000000</td>\n",
       "      <td>1</td>\n",
       "      <td>1</td>\n",
       "      <td>0</td>\n",
       "      <td>0</td>\n",
       "      <td>0</td>\n",
       "      <td>0</td>\n",
       "    </tr>\n",
       "    <tr>\n",
       "      <th>1</th>\n",
       "      <td>1</td>\n",
       "      <td>25.897815</td>\n",
       "      <td>1</td>\n",
       "      <td>1</td>\n",
       "      <td>3.0</td>\n",
       "      <td>3.000000</td>\n",
       "      <td>1</td>\n",
       "      <td>0</td>\n",
       "      <td>1.068493</td>\n",
       "      <td>0</td>\n",
       "      <td>0.112122</td>\n",
       "      <td>1.000000</td>\n",
       "      <td>1</td>\n",
       "      <td>0</td>\n",
       "      <td>0</td>\n",
       "      <td>0</td>\n",
       "      <td>1</td>\n",
       "      <td>0</td>\n",
       "    </tr>\n",
       "    <tr>\n",
       "      <th>2</th>\n",
       "      <td>1</td>\n",
       "      <td>18.000000</td>\n",
       "      <td>0</td>\n",
       "      <td>0</td>\n",
       "      <td>2.0</td>\n",
       "      <td>1.000000</td>\n",
       "      <td>1</td>\n",
       "      <td>0</td>\n",
       "      <td>1.000000</td>\n",
       "      <td>0</td>\n",
       "      <td>0.000000</td>\n",
       "      <td>2.000000</td>\n",
       "      <td>0</td>\n",
       "      <td>0</td>\n",
       "      <td>0</td>\n",
       "      <td>0</td>\n",
       "      <td>1</td>\n",
       "      <td>0</td>\n",
       "    </tr>\n",
       "    <tr>\n",
       "      <th>3</th>\n",
       "      <td>0</td>\n",
       "      <td>18.014333</td>\n",
       "      <td>1</td>\n",
       "      <td>1</td>\n",
       "      <td>2.0</td>\n",
       "      <td>2.805436</td>\n",
       "      <td>1</td>\n",
       "      <td>0</td>\n",
       "      <td>2.122884</td>\n",
       "      <td>0</td>\n",
       "      <td>0.045651</td>\n",
       "      <td>0.017225</td>\n",
       "      <td>2</td>\n",
       "      <td>0</td>\n",
       "      <td>0</td>\n",
       "      <td>0</td>\n",
       "      <td>1</td>\n",
       "      <td>0</td>\n",
       "    </tr>\n",
       "    <tr>\n",
       "      <th>4</th>\n",
       "      <td>0</td>\n",
       "      <td>23.083621</td>\n",
       "      <td>1</td>\n",
       "      <td>1</td>\n",
       "      <td>3.0</td>\n",
       "      <td>2.567567</td>\n",
       "      <td>1</td>\n",
       "      <td>0</td>\n",
       "      <td>2.011023</td>\n",
       "      <td>0</td>\n",
       "      <td>0.916478</td>\n",
       "      <td>0.000000</td>\n",
       "      <td>1</td>\n",
       "      <td>0</td>\n",
       "      <td>0</td>\n",
       "      <td>0</td>\n",
       "      <td>1</td>\n",
       "      <td>0</td>\n",
       "    </tr>\n",
       "  </tbody>\n",
       "</table>\n",
       "</div>"
      ],
      "text/plain": [
       "   Gender        Age  family_history_with_overweight  FAVC  FCVC       NCP  \\\n",
       "0       1  37.631769                               1     1   2.0  2.582591   \n",
       "1       1  25.897815                               1     1   3.0  3.000000   \n",
       "2       1  18.000000                               0     0   2.0  1.000000   \n",
       "3       0  18.014333                               1     1   2.0  2.805436   \n",
       "4       0  23.083621                               1     1   3.0  2.567567   \n",
       "\n",
       "   CAEC  SMOKE      CH2O  SCC       FAF       TUE  CALC  Automobile  Bike  \\\n",
       "0     1      0  1.535134    0  1.884520  0.000000     1           1     0   \n",
       "1     1      0  1.068493    0  0.112122  1.000000     1           0     0   \n",
       "2     1      0  1.000000    0  0.000000  2.000000     0           0     0   \n",
       "3     1      0  2.122884    0  0.045651  0.017225     2           0     0   \n",
       "4     1      0  2.011023    0  0.916478  0.000000     1           0     0   \n",
       "\n",
       "   Motorbike  Public_Transportation  Walking  \n",
       "0          0                      0        0  \n",
       "1          0                      1        0  \n",
       "2          0                      1        0  \n",
       "3          0                      1        0  \n",
       "4          0                      1        0  "
      ]
     },
     "execution_count": 10,
     "metadata": {},
     "output_type": "execute_result"
    }
   ],
   "source": [
    "# combining the encoded MTRANS with the rest of the variables\n",
    "attributes = attributes.drop('MTRANS', axis=1)\n",
    "attributes = pd.concat([attributes, mtrans], axis=1)\n",
    "attributes.head()"
   ]
  },
  {
   "cell_type": "markdown",
   "id": "5566977f",
   "metadata": {},
   "source": [
    "## Classification"
   ]
  },
  {
   "cell_type": "code",
   "execution_count": 11,
   "id": "5a4e7edb",
   "metadata": {},
   "outputs": [],
   "source": [
    "# creating a train test split\n",
    "X_train, X_test, y_train, y_test = train_test_split(attributes, labels, test_size=0.2, random_state=0, stratify=labels)"
   ]
  },
  {
   "cell_type": "markdown",
   "id": "38d26f6a",
   "metadata": {},
   "source": [
    "### Naive Bayes classifier"
   ]
  },
  {
   "cell_type": "code",
   "execution_count": 12,
   "id": "4fbb2a65",
   "metadata": {},
   "outputs": [
    {
     "name": "stderr",
     "output_type": "stream",
     "text": [
      "C:\\Users\\Ice\\anaconda3\\lib\\site-packages\\sklearn\\naive_bayes.py:508: UserWarning: alpha too small will result in numeric errors, setting alpha = 1.0e-10\n",
      "  warnings.warn('alpha too small will result in numeric errors, '\n",
      "C:\\Users\\Ice\\anaconda3\\lib\\site-packages\\seaborn\\_decorators.py:36: FutureWarning: Pass the following variables as keyword args: x, y. From version 0.12, the only valid positional argument will be `data`, and passing other arguments without an explicit keyword will result in an error or misinterpretation.\n",
      "  warnings.warn(\n",
      "C:\\Users\\Ice\\anaconda3\\lib\\site-packages\\seaborn\\_decorators.py:36: FutureWarning: Pass the following variables as keyword args: x, y. From version 0.12, the only valid positional argument will be `data`, and passing other arguments without an explicit keyword will result in an error or misinterpretation.\n",
      "  warnings.warn(\n"
     ]
    },
    {
     "data": {
      "image/png": "[encoded data removed]",
      "text/plain": [
       "<Figure size 432x288 with 1 Axes>"
      ]
     },
     "metadata": {
      "needs_background": "light"
     },
     "output_type": "display_data"
    }
   ],
   "source": [
    "# mapping out the effect of parameters to accuracy\n",
    "training_accuracy = []\n",
    "testing_accuracy = []\n",
    "alphas = range(0,50)\n",
    "for i in alphas:\n",
    "    classifier = naive_bayes.MultinomialNB(alpha=i, fit_prior=False)\n",
    "    classifier.fit(X_train, y_train)\n",
    "    training_accuracy.append(accuracy_score(y_train,\n",
    "                                            classifier.predict(X_train)))\n",
    "    testing_accuracy.append(accuracy_score(y_test,\n",
    "                                           classifier.predict(X_test)))\n",
    "plt.figure()\n",
    "sns.lineplot(alphas, training_accuracy, label='training accuracy')\n",
    "sns.lineplot(alphas, testing_accuracy, \n",
    "             label='testing accuracy')\n",
    "plt.title('Testing Accuracy by Parameter')\n",
    "plt.xlabel('alpha')\n",
    "plt.ylabel('accuracy')\n",
    "plt.legend()\n",
    "plt.grid()"
   ]
  },
  {
   "cell_type": "code",
   "execution_count": 13,
   "id": "d18d14ad",
   "metadata": {},
   "outputs": [],
   "source": [
    "#creating a classifier\n",
    "nb_cla = naive_bayes.MultinomialNB(alpha=44, fit_prior=False)"
   ]
  },
  {
   "cell_type": "code",
   "execution_count": 14,
   "id": "17b2bbaa",
   "metadata": {},
   "outputs": [
    {
     "data": {
      "text/plain": [
       "MultinomialNB(alpha=44, fit_prior=False)"
      ]
     },
     "execution_count": 14,
     "metadata": {},
     "output_type": "execute_result"
    }
   ],
   "source": [
    "#training the model\n",
    "nb_cla.fit(X_train, y_train)"
   ]
  },
  {
   "cell_type": "code",
   "execution_count": 15,
   "id": "5cc89ba3",
   "metadata": {},
   "outputs": [
    {
     "name": "stdout",
     "output_type": "stream",
     "text": [
      "5.28 ms ± 313 µs per loop (mean ± std. dev. of 7 runs, 100 loops each)\n"
     ]
    }
   ],
   "source": [
    "# timing the processing time\n",
    "%timeit nb_cla.fit(X_train, y_train)"
   ]
  },
  {
   "cell_type": "code",
   "execution_count": 16,
   "id": "ceb86122",
   "metadata": {},
   "outputs": [
    {
     "name": "stdout",
     "output_type": "stream",
     "text": [
      "The training accuracy is: 0.43838862559241704\n",
      "The testing accuracy is: 0.46335697399527187\n"
     ]
    }
   ],
   "source": [
    "# testing for in-sample and off-sample accuracy\n",
    "nb_y_train = nb_cla.predict(X_train)\n",
    "nb_y_test = nb_cla.predict(X_test)\n",
    "nb_train_acc = accuracy_score(y_train, nb_y_train)\n",
    "nb_test_acc = accuracy_score(y_test, nb_y_test)\n",
    "print('The training accuracy is:', nb_train_acc)\n",
    "print('The testing accuracy is:', nb_test_acc)"
   ]
  },
  {
   "cell_type": "code",
   "execution_count": 17,
   "id": "46f5490e",
   "metadata": {},
   "outputs": [
    {
     "name": "stdout",
     "output_type": "stream",
     "text": [
      "the 5-folds crossvalidation accuracy scores are: [0.43026005 0.43364929 0.42417062 0.40047393 0.42654028]\n",
      "the 5-folds crossvalidation mean score is: 0.42301883410081453\n",
      "the 5-folds crossvalidation varience is: 0.00013748829838179283\n"
     ]
    }
   ],
   "source": [
    "# 5-folds crossvalidation\n",
    "nb_5_folds = cross_val_score(nb_cla, attributes, labels, cv=5)\n",
    "nb_5_folds_mean = nb_5_folds.mean()\n",
    "nb_5_folds_var = nb_5_folds.var()\n",
    "print('the 5-folds crossvalidation accuracy scores are:', nb_5_folds)\n",
    "print('the 5-folds crossvalidation mean score is:', nb_5_folds_mean)\n",
    "print('the 5-folds crossvalidation varience is:', nb_5_folds_var)"
   ]
  },
  {
   "cell_type": "code",
   "execution_count": 18,
   "id": "04f2fff3",
   "metadata": {},
   "outputs": [
    {
     "name": "stdout",
     "output_type": "stream",
     "text": [
      "                     precision    recall  f1-score   support\n",
      "\n",
      "Insufficient_Weight      0.483     0.259     0.337        54\n",
      "      Normal_Weight      0.556     0.259     0.353        58\n",
      "     Obesity_Type_I      0.500     0.529     0.514        70\n",
      "    Obesity_Type_II      0.388     0.983     0.557        60\n",
      "   Obesity_Type_III      0.496     0.985     0.660        65\n",
      " Overweight_Level_I      1.000     0.052     0.098        58\n",
      "Overweight_Level_II      0.444     0.069     0.119        58\n",
      "\n",
      "           accuracy                          0.463       423\n",
      "          macro avg      0.552     0.448     0.377       423\n",
      "       weighted avg      0.550     0.463     0.387       423\n",
      "\n"
     ]
    }
   ],
   "source": [
    "print(metrics.classification_report(y_test, nb_y_test, digits=3))"
   ]
  },
  {
   "cell_type": "code",
   "execution_count": 19,
   "id": "6c71a017",
   "metadata": {
    "scrolled": false
   },
   "outputs": [
    {
     "data": {
      "text/plain": [
       "Text(90.77375, 0.5, 'predicted label')"
      ]
     },
     "execution_count": 19,
     "metadata": {},
     "output_type": "execute_result"
    },
    {
     "data": {
      "image/png": "[encoded data removed]",
      "text/plain": [
       "<Figure size 432x288 with 1 Axes>"
      ]
     },
     "metadata": {
      "needs_background": "light"
     },
     "output_type": "display_data"
    }
   ],
   "source": [
    "# creating a confusion matrix\n",
    "nb_matrix = confusion_matrix(y_test,nb_y_test)\n",
    "sns.heatmap(nb_matrix.T, square=True, annot=True, fmt='d', cbar=False,\n",
    "            xticklabels=nb_cla.classes_, yticklabels=nb_cla.classes_)\n",
    "plt.title('Confusion Matrix')\n",
    "plt.xlabel('true label')\n",
    "plt.ylabel('predicted label')"
   ]
  },
  {
   "cell_type": "markdown",
   "id": "8d1f6854",
   "metadata": {},
   "source": [
    "### Support Vector Machine Classifier"
   ]
  },
  {
   "cell_type": "code",
   "execution_count": null,
   "id": "0d6e01b7",
   "metadata": {},
   "outputs": [],
   "source": [
    "# mapping out the effect of parameters to accuracy\n",
    "kernels = ['linear', 'rbf', 'poly']\n",
    "scores = [1, 2, 3, 4, 5]\n",
    "kernel_cv = pd.DataFrame(index=scores, columns=kernels)\n",
    "for i in kernels:\n",
    "    clf = svm.SVC(kernel=i, random_state=45, gamma=0.1)\n",
    "    clf.fit(X_train, y_train)\n",
    "    cv = cross_val_score(clf, attributes, labels, cv=5)\n",
    "    kernel_cv[i] = cv"
   ]
  },
  {
   "cell_type": "code",
   "execution_count": null,
   "id": "86925207",
   "metadata": {},
   "outputs": [],
   "source": [
    "sns.heatmap(kernel_cv)\n",
    "plt.title('CV accuracy by kernals')\n",
    "plt.xlabel('kernels')"
   ]
  },
  {
   "cell_type": "code",
   "execution_count": null,
   "id": "3c2b98ab",
   "metadata": {},
   "outputs": [],
   "source": [
    "#creating a classifier\n",
    "model = svm.SVC(random_state=30)\n",
    "parameters = [{'kernel': ['linear', 'rbf', 'poly'],\n",
    "               'C': [0.1, 1, 10],\n",
    "               'gamma': [0.1, 0.05, 0.1],\n",
    "               'degree': [2, 3]}]\n",
    "svm_gridsearch = GridSearchCV(model, parameters, scoring='accuracy')\n",
    "svm_gridsearch.fit(X_train, y_train)\n",
    "svm_cla = svm_gridsearch.best_estimator_"
   ]
  },
  {
   "cell_type": "code",
   "execution_count": null,
   "id": "7670bc77",
   "metadata": {
    "scrolled": true
   },
   "outputs": [],
   "source": [
    "#training the model\n",
    "svm_cla.fit(X_train, y_train)"
   ]
  },
  {
   "cell_type": "code",
   "execution_count": null,
   "id": "65dd38e0",
   "metadata": {},
   "outputs": [],
   "source": [
    "# timing the processing time\n",
    "%timeit svm_cla.fit(X_train, y_train)"
   ]
  },
  {
   "cell_type": "code",
   "execution_count": null,
   "id": "5eb79dde",
   "metadata": {},
   "outputs": [],
   "source": [
    "# testing for in-sample and off-sample accuracy\n",
    "svm_y_train = svm_cla.predict(X_train)\n",
    "svm_y_test = svm_cla.predict(X_test)\n",
    "svm_train_acc = accuracy_score(y_train, svm_y_train)\n",
    "svm_test_acc = accuracy_score(y_test, svm_y_test)\n",
    "print('The training accuracy is:', svm_train_acc)\n",
    "print('The testing sample accuracy is:', svm_test_acc)"
   ]
  },
  {
   "cell_type": "code",
   "execution_count": null,
   "id": "28adcaa0",
   "metadata": {},
   "outputs": [],
   "source": [
    "# 5-folds crossvalidation\n",
    "svm_5_folds = cross_val_score(svm_cla, attributes, labels, cv=5)\n",
    "svm_5_folds_mean = svm_5_folds.mean()\n",
    "svm_5_folds_var = svm_5_folds.var()\n",
    "print('the 5-folds crossvalidation accuracy scores are:', svm_5_folds)\n",
    "print('the 5-folds crossvalidation mean score is:', svm_5_folds_mean)\n",
    "print('the 5-folds crossvalidation varience is:', svm_5_folds_var)"
   ]
  },
  {
   "cell_type": "code",
   "execution_count": null,
   "id": "17b437e0",
   "metadata": {},
   "outputs": [],
   "source": [
    "print(metrics.classification_report(y_test, svm_y_test, digits=3))"
   ]
  },
  {
   "cell_type": "code",
   "execution_count": null,
   "id": "8fa5f456",
   "metadata": {},
   "outputs": [],
   "source": [
    "# creating a confusion matrix\n",
    "svm_matrix = confusion_matrix(y_test,svm_y_test)\n",
    "sns.heatmap(svm_matrix.T, square=True, annot=True, fmt='d', cbar=False,\n",
    "            xticklabels=svm_cla.classes_, yticklabels=svm_cla.classes_)\n",
    "plt.title('Confusion Matrix')\n",
    "plt.xlabel('true label')\n",
    "plt.ylabel('predicted label')"
   ]
  },
  {
   "cell_type": "markdown",
   "id": "5583eb5b",
   "metadata": {},
   "source": [
    "### Random Forest Classifier"
   ]
  },
  {
   "cell_type": "code",
   "execution_count": null,
   "id": "57ecf950",
   "metadata": {},
   "outputs": [],
   "source": [
    "# mapping out the effect of parameters to accuracy\n",
    "acc_df = pd.DataFrame(columns=range(5 , 30, 5), index=range(10 , 101, 10))\n",
    "\n",
    "for i in range(10 , 101, 10):\n",
    "    for j in range(5 , 31, 5):\n",
    "        clf = ensemble.RandomForestClassifier(n_estimators=i, max_depth=j, random_state=30)\n",
    "        clf.fit(X_train, y_train)\n",
    "        cv = cross_val_score(clf, attributes, labels, cv=5)\n",
    "        cv_mean = cv.mean()\n",
    "        acc_df.loc[i, j] = cv_mean\n",
    "\n",
    "acc_df = acc_df.astype('float')"
   ]
  },
  {
   "cell_type": "code",
   "execution_count": null,
   "id": "e39c2456",
   "metadata": {},
   "outputs": [],
   "source": [
    "sns.heatmap(acc_df.T, center=0.75)\n",
    "plt.title('CV Accuracy by Parameters')\n",
    "plt.xlabel('number of trees')\n",
    "plt.ylabel('tree depth')"
   ]
  },
  {
   "cell_type": "code",
   "execution_count": null,
   "id": "c915a1ba",
   "metadata": {},
   "outputs": [],
   "source": [
    "#creating a classifier\n",
    "rf_cla = ensemble.RandomForestClassifier(max_depth=15, n_estimators=90, random_state=30)"
   ]
  },
  {
   "cell_type": "code",
   "execution_count": null,
   "id": "34578ffd",
   "metadata": {},
   "outputs": [],
   "source": [
    "#training the model\n",
    "rf_cla.fit(X_train, y_train)"
   ]
  },
  {
   "cell_type": "code",
   "execution_count": null,
   "id": "6d2bfc88",
   "metadata": {},
   "outputs": [],
   "source": [
    "# timing the processing time\n",
    "%timeit rf_cla.fit(X_train, y_train)"
   ]
  },
  {
   "cell_type": "code",
   "execution_count": null,
   "id": "eac329f6",
   "metadata": {},
   "outputs": [],
   "source": [
    "# testing for in-sample and off-sample accuracy\n",
    "rf_y_train = rf_cla.predict(X_train)\n",
    "rf_y_test = rf_cla.predict(X_test)\n",
    "rf_train_acc = accuracy_score(y_train, rf_y_train)\n",
    "rf_test_acc = accuracy_score(y_test, rf_y_test)\n",
    "print('The training is:', rf_train_acc)\n",
    "print('The testing accuracy is:', rf_test_acc)"
   ]
  },
  {
   "cell_type": "code",
   "execution_count": null,
   "id": "69ff3044",
   "metadata": {},
   "outputs": [],
   "source": [
    "# 5-folds crossvalidation\n",
    "rf_5_folds = cross_val_score(rf_cla, attributes, labels, cv=5)\n",
    "rf_5_folds_mean = rf_5_folds.mean()\n",
    "rf_5_folds_var = rf_5_folds.var()\n",
    "print('the 5-folds crossvalidation accuracy scores are:', rf_5_folds)\n",
    "print('the 5-folds crossvalidation mean score is:', rf_5_folds_mean)\n",
    "print('the 5-folds crossvalidation varience is:', rf_5_folds_var)"
   ]
  },
  {
   "cell_type": "code",
   "execution_count": null,
   "id": "496c31c2",
   "metadata": {
    "scrolled": true
   },
   "outputs": [],
   "source": [
    "print(metrics.classification_report(y_test, rf_y_test, digits=3))"
   ]
  },
  {
   "cell_type": "code",
   "execution_count": null,
   "id": "16b9d5e4",
   "metadata": {},
   "outputs": [],
   "source": [
    "# creating a confusion matrix\n",
    "rf_matrix = confusion_matrix(y_test,rf_y_test)\n",
    "sns.heatmap(rf_matrix.T, square=True, annot=True, fmt='d', cbar=False,\n",
    "            xticklabels=rf_cla.classes_, yticklabels=rf_cla.classes_)\n",
    "plt.title('Confusion Matrix')\n",
    "plt.xlabel('true label')\n",
    "plt.ylabel('predicted label')"
   ]
  },
  {
   "cell_type": "code",
   "execution_count": null,
   "id": "aca2a86c",
   "metadata": {},
   "outputs": [],
   "source": [
    "sample_attributes = X_train.iloc[5:8,:]\n",
    "sample_attributes"
   ]
  },
  {
   "cell_type": "code",
   "execution_count": null,
   "id": "26d9cb3b",
   "metadata": {},
   "outputs": [],
   "source": [
    "sample_labels = y_train[5:8]\n",
    "sample_labels"
   ]
  },
  {
   "cell_type": "code",
   "execution_count": null,
   "id": "2502dc6e",
   "metadata": {},
   "outputs": [],
   "source": [
    "nb_labels = nb_cla.predict(sample_attributes)\n",
    "rf_labels = rf_cla.predict(sample_attributes)\n",
    "svm_labels = svm_cla.predict(sample_attributes)"
   ]
  },
  {
   "cell_type": "code",
   "execution_count": null,
   "id": "013e7140",
   "metadata": {},
   "outputs": [],
   "source": [
    "columns = ['true_labels', 'NB_labels', 'RF_labels', 'SVM_labels']\n",
    "example = pd.DataFrame(columns=columns)\n",
    "example['true_labels'] = sample_labels\n",
    "example['NB_labels'] = nb_labels\n",
    "example['RF_labels'] = rf_labels\n",
    "example['SVM_labels'] = svm_labels\n",
    "example"
   ]
  },
  {
   "cell_type": "code",
   "execution_count": null,
   "id": "cf9a0c0e",
   "metadata": {},
   "outputs": [],
   "source": []
  }
 ],
 "metadata": {
  "kernelspec": {
   "display_name": "Python 3",
   "language": "python",
   "name": "python3"
  },
  "language_info": {
   "codemirror_mode": {
    "name": "ipython",
    "version": 3
   },
   "file_extension": ".py",
   "mimetype": "text/x-python",
   "name": "python",
   "nbconvert_exporter": "python",
   "pygments_lexer": "ipython3",
   "version": "3.8.8"
  }
 },
 "nbformat": 4,
 "nbformat_minor": 5
}
